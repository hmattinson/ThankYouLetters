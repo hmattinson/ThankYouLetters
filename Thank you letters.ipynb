{
 "cells": [
  {
   "cell_type": "code",
   "execution_count": null,
   "metadata": {},
   "outputs": [],
   "source": [
    "import smtplib\n",
    "from email.MIMEMultipart import MIMEMultipart\n",
    "from email.MIMEText import MIMEText\n",
    "from email.MIMEBase import MIMEBase\n",
    "from email import encoders\n",
    "import ntpath"
   ]
  },
  {
   "cell_type": "code",
   "execution_count": null,
   "metadata": {},
   "outputs": [],
   "source": [
    "# Text that everyone gets after thanking for the present\n",
    "general_text = '''Some general text that will appear after the thankyou.\n",
    "\n",
    "E.g. What we did over Christmas.\n",
    "\n",
    "...\n",
    "    \n",
    "Henry'''\n",
    "\n",
    "subject = \"Christmas Thank You\"\n",
    "email_server = ''\n",
    "port = 123\n",
    "email_password = \"\"\n",
    "fromaddr = \"email address\"\n",
    "attachment = 'family_picture.jpeg'"
   ]
  },
  {
   "cell_type": "code",
   "execution_count": null,
   "metadata": {},
   "outputs": [],
   "source": [
    "# An address book\n",
    "people = {\n",
    "    'Index': ['Name as in email', ['emails to send to for this person/family']]\n",
    "}"
   ]
  },
  {
   "cell_type": "code",
   "execution_count": null,
   "metadata": {},
   "outputs": [],
   "source": [
    "# Who gave me what\n",
    "presents = [\n",
    "    ['Index': 'gift that they gave me (excluding the word \"the\")']\n",
    "]"
   ]
  },
  {
   "cell_type": "code",
   "execution_count": null,
   "metadata": {},
   "outputs": [],
   "source": [
    "def create_message(name, present):\n",
    "    intro = 'Dear ' + name + ',\\n\\n'\n",
    "    thanks = 'Thank you very much for the ' + present + '\\n\\n'\n",
    "    return intro + thanks + general_text"
   ]
  },
  {
   "cell_type": "code",
   "execution_count": null,
   "metadata": {},
   "outputs": [],
   "source": [
    "def send_email(toaddr, subject, body, attachment_path):\n",
    "    msg = MIMEMultipart()\n",
    "    msg['From'] = fromaddr\n",
    "    msg['To'] = toaddr\n",
    "    msg['Subject'] = subject\n",
    "\n",
    "    msg.attach(MIMEText(body, 'plain'))\n",
    "    \n",
    "    if attachment_path != None:\n",
    "        filename = ntpath.split(attachment_path)[1]\n",
    "        attachment = open(attachment_path, \"rb\")\n",
    "        part = MIMEBase('application', 'octet-stream')\n",
    "        part.set_payload((attachment).read())\n",
    "        encoders.encode_base64(part)\n",
    "        part.add_header('Content-Disposition', \"attachment; filename= \" + filename)\n",
    "        msg.attach(part)\n",
    "\n",
    "    server = smtplib.SMTP(email_server, port)\n",
    "    server.starttls()\n",
    "    server.login(fromaddr, email_password)\n",
    "    text = msg.as_string()\n",
    "    server.sendmail(fromaddr, toaddr, text)\n",
    "    server.quit()"
   ]
  },
  {
   "cell_type": "code",
   "execution_count": null,
   "metadata": {},
   "outputs": [],
   "source": [
    "for [person, present] in presents:\n",
    "    name = people[person][0]\n",
    "    emails = people[person][1]\n",
    "    print(person, present)\n",
    "    for email in emails:\n",
    "        send_email(email, subject, create_message(name, present), attachment)"
   ]
  },
  {
   "cell_type": "code",
   "execution_count": null,
   "metadata": {},
   "outputs": [],
   "source": []
  }
 ],
 "metadata": {
  "kernelspec": {
   "display_name": "Python [conda root]",
   "language": "python",
   "name": "conda-root-py"
  },
  "language_info": {
   "codemirror_mode": {
    "name": "ipython",
    "version": 2
   },
   "file_extension": ".py",
   "mimetype": "text/x-python",
   "name": "python",
   "nbconvert_exporter": "python",
   "pygments_lexer": "ipython2",
   "version": "2.7.15"
  }
 },
 "nbformat": 4,
 "nbformat_minor": 2
}
